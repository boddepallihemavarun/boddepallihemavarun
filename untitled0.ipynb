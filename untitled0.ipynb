{
  "nbformat": 4,
  "nbformat_minor": 0,
  "metadata": {
    "colab": {
      "provenance": [],
      "authorship_tag": "ABX9TyPcEkb3c/qfLlU+z2s/K73T",
      "include_colab_link": true
    },
    "kernelspec": {
      "name": "python3",
      "display_name": "Python 3"
    },
    "language_info": {
      "name": "python"
    }
  },
  "cells": [
    {
      "cell_type": "markdown",
      "metadata": {
        "id": "view-in-github",
        "colab_type": "text"
      },
      "source": [
        "<a href=\"https://colab.research.google.com/github/boddepallihemavarun/boddepallihemavarun/blob/main/untitled0.ipynb\" target=\"_parent\"><img src=\"https://colab.research.google.com/assets/colab-badge.svg\" alt=\"Open In Colab\"/></a>"
      ]
    },
    {
      "cell_type": "code",
      "execution_count": null,
      "metadata": {
        "id": "KujBoDZHM6wc"
      },
      "outputs": [],
      "source": [
        "X= int(input(\"enter an number\"))\n",
        "Y= int(input(\"enter an number\"))\n",
        "C = input(\"enter chat\")\n",
        "\n",
        "if c==\"+\":\n",
        " print (X+Y)\n",
        "elif c==\"-\":\n",
        " print(X-Y)\n",
        "else:\n",
        " print(\"invalid\")"
      ]
    }
  ]
}
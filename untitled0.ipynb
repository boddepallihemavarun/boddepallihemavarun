{
  "nbformat": 4,
  "nbformat_minor": 0,
  "metadata": {
    "colab": {
      "provenance": [],
      "authorship_tag": "ABX9TyO3wdusgedYLZaOtG4ZLNeO",
      "include_colab_link": true
    },
    "kernelspec": {
      "name": "python3",
      "display_name": "Python 3"
    },
    "language_info": {
      "name": "python"
    }
  },
  "cells": [
    {
      "cell_type": "markdown",
      "metadata": {
        "id": "view-in-github",
        "colab_type": "text"
      },
      "source": [
        "<a href=\"https://colab.research.google.com/github/boddepallihemavarun/boddepallihemavarun/blob/main/untitled0.ipynb\" target=\"_parent\"><img src=\"https://colab.research.google.com/assets/colab-badge.svg\" alt=\"Open In Colab\"/></a>"
      ]
    },
    {
      "cell_type": "code",
      "execution_count": null,
      "metadata": {
        "id": "KujBoDZHM6wc"
      },
      "outputs": [],
      "source": [
        "X= int(input(\"enter an number\"))\n",
        "Y= int(input(\"enter an number\"))\n",
        "C = input(\"enter chat\")\n",
        "\n",
        "if c==\"+\":\n",
        " print (X+Y)\n",
        "elif c==\"-\":\n",
        " print(X-Y)\n",
        "else:\n",
        " print(\"invalid\")"
      ]
    },
    {
      "cell_type": "code",
      "source": [
        "\n",
        "rows = 5\n",
        "\n",
        "for i in range(1, rows + 1):\n",
        "    print(\"*\" * i)"
      ],
      "metadata": {
        "colab": {
          "base_uri": "https://localhost:8080/"
        },
        "id": "afCQxN8BSfyh",
        "outputId": "feca608e-ced9-438b-93db-6a1ce0ae280b"
      },
      "execution_count": null,
      "outputs": [
        {
          "output_type": "stream",
          "name": "stdout",
          "text": [
            "*\n",
            "**\n",
            "***\n",
            "****\n",
            "*****\n"
          ]
        }
      ]
    }
  ]
}